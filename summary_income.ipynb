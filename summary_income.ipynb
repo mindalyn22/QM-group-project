{
 "cells": [
  {
   "cell_type": "code",
   "execution_count": 2,
   "id": "dba34dfc-ac3e-4087-b390-1bec0e94397c",
   "metadata": {},
   "outputs": [
    {
     "name": "stderr",
     "output_type": "stream",
     "text": [
      "<jemalloc>: MADV_DONTNEED does not work (memset will be used instead)\n",
      "<jemalloc>: (This is the expected behaviour if you are running under QEMU)\n"
     ]
    }
   ],
   "source": [
    "import pandas as pd\n",
    "import matplotlib.pyplot as plt\n",
    "import statsmodels.formula.api as smf\n",
    "import statsmodels\n",
    "import numpy as np"
   ]
  },
  {
   "cell_type": "code",
   "execution_count": 23,
   "id": "c5103709-5e4d-40da-a5d6-96f62d684052",
   "metadata": {},
   "outputs": [
    {
     "data": {
      "text/html": [
       "<div>\n",
       "<style scoped>\n",
       "    .dataframe tbody tr th:only-of-type {\n",
       "        vertical-align: middle;\n",
       "    }\n",
       "\n",
       "    .dataframe tbody tr th {\n",
       "        vertical-align: top;\n",
       "    }\n",
       "\n",
       "    .dataframe thead th {\n",
       "        text-align: right;\n",
       "    }\n",
       "</style>\n",
       "<table border=\"1\" class=\"dataframe\">\n",
       "  <thead>\n",
       "    <tr style=\"text-align: right;\">\n",
       "      <th></th>\n",
       "      <th>Unnamed: 0</th>\n",
       "      <th>ward</th>\n",
       "      <th>borough</th>\n",
       "      <th>%_english_is_first_language_of_no_one_in_household_2011</th>\n",
       "      <th>median_house_price_2014</th>\n",
       "      <th>median_household_income_estimate_2012_13</th>\n",
       "      <th>male_life_expectancy_2009_13</th>\n",
       "      <th>female_life_expectancy_2009_13</th>\n",
       "      <th>%_area_that_is_open_space_2014</th>\n",
       "      <th>%_travel_by_bicycle_to_work_2011</th>\n",
       "      <th>turnout_at_mayoral_election_2012</th>\n",
       "      <th>crime_rate_2014_15</th>\n",
       "      <th>%_bame_2011</th>\n",
       "      <th>%_all_older_people_aged_65_2015</th>\n",
       "      <th>%_homes_with_good_access_to_nature</th>\n",
       "      <th>%_homes_with_deficiency_in_access_to_nature</th>\n",
       "      <th>female_life_expectancy_normalised</th>\n",
       "      <th>male_life_expectancy_normalised</th>\n",
       "      <th>median_household_income_estimate_2012_13_log</th>\n",
       "      <th>median_household_income_estimate_2012_13_pow</th>\n",
       "    </tr>\n",
       "  </thead>\n",
       "  <tbody>\n",
       "    <tr>\n",
       "      <th>0</th>\n",
       "      <td>1</td>\n",
       "      <td>E05000026</td>\n",
       "      <td>Barking and Dagenham</td>\n",
       "      <td>25.7</td>\n",
       "      <td>173000.0</td>\n",
       "      <td>33920.0</td>\n",
       "      <td>80.2</td>\n",
       "      <td>83.9</td>\n",
       "      <td>21.9</td>\n",
       "      <td>0.8</td>\n",
       "      <td>25.7</td>\n",
       "      <td>138.1</td>\n",
       "      <td>71.9</td>\n",
       "      <td>5.0</td>\n",
       "      <td>98.0</td>\n",
       "      <td>2.0</td>\n",
       "      <td>0.996498</td>\n",
       "      <td>1.005313</td>\n",
       "      <td>10.431760</td>\n",
       "      <td>0.000029</td>\n",
       "    </tr>\n",
       "    <tr>\n",
       "      <th>1</th>\n",
       "      <td>2</td>\n",
       "      <td>E05000027</td>\n",
       "      <td>Barking and Dagenham</td>\n",
       "      <td>7.9</td>\n",
       "      <td>215000.0</td>\n",
       "      <td>32470.0</td>\n",
       "      <td>77.2</td>\n",
       "      <td>80.6</td>\n",
       "      <td>20.6</td>\n",
       "      <td>1.0</td>\n",
       "      <td>20.3</td>\n",
       "      <td>73.6</td>\n",
       "      <td>29.9</td>\n",
       "      <td>10.0</td>\n",
       "      <td>28.0</td>\n",
       "      <td>72.0</td>\n",
       "      <td>0.957303</td>\n",
       "      <td>0.967708</td>\n",
       "      <td>10.388072</td>\n",
       "      <td>0.000031</td>\n",
       "    </tr>\n",
       "    <tr>\n",
       "      <th>2</th>\n",
       "      <td>3</td>\n",
       "      <td>E05000028</td>\n",
       "      <td>Barking and Dagenham</td>\n",
       "      <td>10.5</td>\n",
       "      <td>210000.0</td>\n",
       "      <td>33000.0</td>\n",
       "      <td>79.0</td>\n",
       "      <td>79.3</td>\n",
       "      <td>1.9</td>\n",
       "      <td>1.6</td>\n",
       "      <td>22.5</td>\n",
       "      <td>79.9</td>\n",
       "      <td>41.2</td>\n",
       "      <td>8.7</td>\n",
       "      <td>83.0</td>\n",
       "      <td>17.0</td>\n",
       "      <td>0.941863</td>\n",
       "      <td>0.990271</td>\n",
       "      <td>10.404263</td>\n",
       "      <td>0.000030</td>\n",
       "    </tr>\n",
       "    <tr>\n",
       "      <th>3</th>\n",
       "      <td>4</td>\n",
       "      <td>E05000029</td>\n",
       "      <td>Barking and Dagenham</td>\n",
       "      <td>6.5</td>\n",
       "      <td>240500.0</td>\n",
       "      <td>33920.0</td>\n",
       "      <td>79.2</td>\n",
       "      <td>82.2</td>\n",
       "      <td>56.0</td>\n",
       "      <td>1.2</td>\n",
       "      <td>25.3</td>\n",
       "      <td>76.1</td>\n",
       "      <td>37.9</td>\n",
       "      <td>14.2</td>\n",
       "      <td>36.0</td>\n",
       "      <td>64.0</td>\n",
       "      <td>0.976306</td>\n",
       "      <td>0.992778</td>\n",
       "      <td>10.431760</td>\n",
       "      <td>0.000029</td>\n",
       "    </tr>\n",
       "    <tr>\n",
       "      <th>4</th>\n",
       "      <td>5</td>\n",
       "      <td>E05000030</td>\n",
       "      <td>Barking and Dagenham</td>\n",
       "      <td>4.5</td>\n",
       "      <td>240000.0</td>\n",
       "      <td>37400.0</td>\n",
       "      <td>77.1</td>\n",
       "      <td>81.1</td>\n",
       "      <td>50.4</td>\n",
       "      <td>1.6</td>\n",
       "      <td>24.1</td>\n",
       "      <td>66.7</td>\n",
       "      <td>24.8</td>\n",
       "      <td>14.2</td>\n",
       "      <td>100.0</td>\n",
       "      <td>0.0</td>\n",
       "      <td>0.963242</td>\n",
       "      <td>0.966455</td>\n",
       "      <td>10.529426</td>\n",
       "      <td>0.000027</td>\n",
       "    </tr>\n",
       "    <tr>\n",
       "      <th>...</th>\n",
       "      <td>...</td>\n",
       "      <td>...</td>\n",
       "      <td>...</td>\n",
       "      <td>...</td>\n",
       "      <td>...</td>\n",
       "      <td>...</td>\n",
       "      <td>...</td>\n",
       "      <td>...</td>\n",
       "      <td>...</td>\n",
       "      <td>...</td>\n",
       "      <td>...</td>\n",
       "      <td>...</td>\n",
       "      <td>...</td>\n",
       "      <td>...</td>\n",
       "      <td>...</td>\n",
       "      <td>...</td>\n",
       "      <td>...</td>\n",
       "      <td>...</td>\n",
       "      <td>...</td>\n",
       "      <td>...</td>\n",
       "    </tr>\n",
       "    <tr>\n",
       "      <th>619</th>\n",
       "      <td>620</td>\n",
       "      <td>E05000645</td>\n",
       "      <td>Westminster</td>\n",
       "      <td>15.1</td>\n",
       "      <td>715650.0</td>\n",
       "      <td>47340.0</td>\n",
       "      <td>83.3</td>\n",
       "      <td>84.3</td>\n",
       "      <td>32.4</td>\n",
       "      <td>5.9</td>\n",
       "      <td>40.2</td>\n",
       "      <td>57.7</td>\n",
       "      <td>21.8</td>\n",
       "      <td>14.9</td>\n",
       "      <td>0.0</td>\n",
       "      <td>100.0</td>\n",
       "      <td>1.001249</td>\n",
       "      <td>1.044172</td>\n",
       "      <td>10.765111</td>\n",
       "      <td>0.000021</td>\n",
       "    </tr>\n",
       "    <tr>\n",
       "      <th>620</th>\n",
       "      <td>621</td>\n",
       "      <td>E05000646</td>\n",
       "      <td>Westminster</td>\n",
       "      <td>17.0</td>\n",
       "      <td>840000.0</td>\n",
       "      <td>46550.0</td>\n",
       "      <td>80.0</td>\n",
       "      <td>85.1</td>\n",
       "      <td>26.4</td>\n",
       "      <td>4.3</td>\n",
       "      <td>37.8</td>\n",
       "      <td>82.4</td>\n",
       "      <td>29.3</td>\n",
       "      <td>12.6</td>\n",
       "      <td>59.0</td>\n",
       "      <td>41.0</td>\n",
       "      <td>1.010750</td>\n",
       "      <td>1.002806</td>\n",
       "      <td>10.748282</td>\n",
       "      <td>0.000021</td>\n",
       "    </tr>\n",
       "    <tr>\n",
       "      <th>621</th>\n",
       "      <td>622</td>\n",
       "      <td>E05000647</td>\n",
       "      <td>Westminster</td>\n",
       "      <td>15.9</td>\n",
       "      <td>857250.0</td>\n",
       "      <td>50250.0</td>\n",
       "      <td>80.7</td>\n",
       "      <td>88.5</td>\n",
       "      <td>4.0</td>\n",
       "      <td>5.9</td>\n",
       "      <td>36.8</td>\n",
       "      <td>138.1</td>\n",
       "      <td>24.0</td>\n",
       "      <td>12.1</td>\n",
       "      <td>69.0</td>\n",
       "      <td>31.0</td>\n",
       "      <td>1.051133</td>\n",
       "      <td>1.011581</td>\n",
       "      <td>10.824766</td>\n",
       "      <td>0.000020</td>\n",
       "    </tr>\n",
       "    <tr>\n",
       "      <th>622</th>\n",
       "      <td>623</td>\n",
       "      <td>E05000648</td>\n",
       "      <td>Westminster</td>\n",
       "      <td>24.1</td>\n",
       "      <td>499975.0</td>\n",
       "      <td>32390.0</td>\n",
       "      <td>75.1</td>\n",
       "      <td>81.6</td>\n",
       "      <td>19.2</td>\n",
       "      <td>5.1</td>\n",
       "      <td>29.6</td>\n",
       "      <td>75.5</td>\n",
       "      <td>52.8</td>\n",
       "      <td>9.0</td>\n",
       "      <td>87.0</td>\n",
       "      <td>13.0</td>\n",
       "      <td>0.969180</td>\n",
       "      <td>0.941384</td>\n",
       "      <td>10.385605</td>\n",
       "      <td>0.000031</td>\n",
       "    </tr>\n",
       "    <tr>\n",
       "      <th>623</th>\n",
       "      <td>624</td>\n",
       "      <td>E05000649</td>\n",
       "      <td>Westminster</td>\n",
       "      <td>24.2</td>\n",
       "      <td>1487500.0</td>\n",
       "      <td>54970.0</td>\n",
       "      <td>82.1</td>\n",
       "      <td>84.1</td>\n",
       "      <td>3.9</td>\n",
       "      <td>3.4</td>\n",
       "      <td>29.7</td>\n",
       "      <td>1212.1</td>\n",
       "      <td>32.4</td>\n",
       "      <td>11.6</td>\n",
       "      <td>86.0</td>\n",
       "      <td>14.0</td>\n",
       "      <td>0.998873</td>\n",
       "      <td>1.029130</td>\n",
       "      <td>10.914543</td>\n",
       "      <td>0.000018</td>\n",
       "    </tr>\n",
       "  </tbody>\n",
       "</table>\n",
       "<p>624 rows × 20 columns</p>\n",
       "</div>"
      ],
      "text/plain": [
       "     Unnamed: 0       ward               borough  \\\n",
       "0             1  E05000026  Barking and Dagenham   \n",
       "1             2  E05000027  Barking and Dagenham   \n",
       "2             3  E05000028  Barking and Dagenham   \n",
       "3             4  E05000029  Barking and Dagenham   \n",
       "4             5  E05000030  Barking and Dagenham   \n",
       "..          ...        ...                   ...   \n",
       "619         620  E05000645           Westminster   \n",
       "620         621  E05000646           Westminster   \n",
       "621         622  E05000647           Westminster   \n",
       "622         623  E05000648           Westminster   \n",
       "623         624  E05000649           Westminster   \n",
       "\n",
       "     %_english_is_first_language_of_no_one_in_household_2011  \\\n",
       "0                                                 25.7         \n",
       "1                                                  7.9         \n",
       "2                                                 10.5         \n",
       "3                                                  6.5         \n",
       "4                                                  4.5         \n",
       "..                                                 ...         \n",
       "619                                               15.1         \n",
       "620                                               17.0         \n",
       "621                                               15.9         \n",
       "622                                               24.1         \n",
       "623                                               24.2         \n",
       "\n",
       "     median_house_price_2014  median_household_income_estimate_2012_13  \\\n",
       "0                   173000.0                                   33920.0   \n",
       "1                   215000.0                                   32470.0   \n",
       "2                   210000.0                                   33000.0   \n",
       "3                   240500.0                                   33920.0   \n",
       "4                   240000.0                                   37400.0   \n",
       "..                       ...                                       ...   \n",
       "619                 715650.0                                   47340.0   \n",
       "620                 840000.0                                   46550.0   \n",
       "621                 857250.0                                   50250.0   \n",
       "622                 499975.0                                   32390.0   \n",
       "623                1487500.0                                   54970.0   \n",
       "\n",
       "     male_life_expectancy_2009_13  female_life_expectancy_2009_13  \\\n",
       "0                            80.2                            83.9   \n",
       "1                            77.2                            80.6   \n",
       "2                            79.0                            79.3   \n",
       "3                            79.2                            82.2   \n",
       "4                            77.1                            81.1   \n",
       "..                            ...                             ...   \n",
       "619                          83.3                            84.3   \n",
       "620                          80.0                            85.1   \n",
       "621                          80.7                            88.5   \n",
       "622                          75.1                            81.6   \n",
       "623                          82.1                            84.1   \n",
       "\n",
       "     %_area_that_is_open_space_2014  %_travel_by_bicycle_to_work_2011  \\\n",
       "0                              21.9                               0.8   \n",
       "1                              20.6                               1.0   \n",
       "2                               1.9                               1.6   \n",
       "3                              56.0                               1.2   \n",
       "4                              50.4                               1.6   \n",
       "..                              ...                               ...   \n",
       "619                            32.4                               5.9   \n",
       "620                            26.4                               4.3   \n",
       "621                             4.0                               5.9   \n",
       "622                            19.2                               5.1   \n",
       "623                             3.9                               3.4   \n",
       "\n",
       "     turnout_at_mayoral_election_2012  crime_rate_2014_15  %_bame_2011  \\\n",
       "0                                25.7               138.1         71.9   \n",
       "1                                20.3                73.6         29.9   \n",
       "2                                22.5                79.9         41.2   \n",
       "3                                25.3                76.1         37.9   \n",
       "4                                24.1                66.7         24.8   \n",
       "..                                ...                 ...          ...   \n",
       "619                              40.2                57.7         21.8   \n",
       "620                              37.8                82.4         29.3   \n",
       "621                              36.8               138.1         24.0   \n",
       "622                              29.6                75.5         52.8   \n",
       "623                              29.7              1212.1         32.4   \n",
       "\n",
       "     %_all_older_people_aged_65_2015  %_homes_with_good_access_to_nature  \\\n",
       "0                                5.0                                98.0   \n",
       "1                               10.0                                28.0   \n",
       "2                                8.7                                83.0   \n",
       "3                               14.2                                36.0   \n",
       "4                               14.2                               100.0   \n",
       "..                               ...                                 ...   \n",
       "619                             14.9                                 0.0   \n",
       "620                             12.6                                59.0   \n",
       "621                             12.1                                69.0   \n",
       "622                              9.0                                87.0   \n",
       "623                             11.6                                86.0   \n",
       "\n",
       "     %_homes_with_deficiency_in_access_to_nature  \\\n",
       "0                                            2.0   \n",
       "1                                           72.0   \n",
       "2                                           17.0   \n",
       "3                                           64.0   \n",
       "4                                            0.0   \n",
       "..                                           ...   \n",
       "619                                        100.0   \n",
       "620                                         41.0   \n",
       "621                                         31.0   \n",
       "622                                         13.0   \n",
       "623                                         14.0   \n",
       "\n",
       "     female_life_expectancy_normalised  male_life_expectancy_normalised  \\\n",
       "0                             0.996498                         1.005313   \n",
       "1                             0.957303                         0.967708   \n",
       "2                             0.941863                         0.990271   \n",
       "3                             0.976306                         0.992778   \n",
       "4                             0.963242                         0.966455   \n",
       "..                                 ...                              ...   \n",
       "619                           1.001249                         1.044172   \n",
       "620                           1.010750                         1.002806   \n",
       "621                           1.051133                         1.011581   \n",
       "622                           0.969180                         0.941384   \n",
       "623                           0.998873                         1.029130   \n",
       "\n",
       "     median_household_income_estimate_2012_13_log  \\\n",
       "0                                       10.431760   \n",
       "1                                       10.388072   \n",
       "2                                       10.404263   \n",
       "3                                       10.431760   \n",
       "4                                       10.529426   \n",
       "..                                            ...   \n",
       "619                                     10.765111   \n",
       "620                                     10.748282   \n",
       "621                                     10.824766   \n",
       "622                                     10.385605   \n",
       "623                                     10.914543   \n",
       "\n",
       "     median_household_income_estimate_2012_13_pow  \n",
       "0                                        0.000029  \n",
       "1                                        0.000031  \n",
       "2                                        0.000030  \n",
       "3                                        0.000029  \n",
       "4                                        0.000027  \n",
       "..                                            ...  \n",
       "619                                      0.000021  \n",
       "620                                      0.000021  \n",
       "621                                      0.000020  \n",
       "622                                      0.000031  \n",
       "623                                      0.000018  \n",
       "\n",
       "[624 rows x 20 columns]"
      ]
     },
     "execution_count": 23,
     "metadata": {},
     "output_type": "execute_result"
    }
   ],
   "source": [
    "df = pd.read_csv(\"full_data.csv\", encoding=\"latin\")\n",
    "df"
   ]
  },
  {
   "cell_type": "markdown",
   "id": "ba30aa0c-d78f-43f0-b0b0-4aaf69f63aa3",
   "metadata": {},
   "source": [
    "**Summary statistics of median_household_income_estimate_2012_13**"
   ]
  },
  {
   "cell_type": "code",
   "execution_count": 5,
   "id": "36da629b-0cca-47ed-96d8-2d4cbbdad7d1",
   "metadata": {},
   "outputs": [
    {
     "name": "stdout",
     "output_type": "stream",
     "text": [
      "size of data set:  624\n",
      "mean:  39224.66346153846\n",
      "median:  38165.0\n",
      "min avg income:  25090.0\n",
      "max avg income:  88330.0\n",
      "range avg income:  63240.0\n",
      "variance:  54701090.41625507\n",
      "standard deviation:  7396.018551643518\n"
     ]
    }
   ],
   "source": [
    "size = len(df)\n",
    "\n",
    "# middles\n",
    "mean = df['median_household_income_estimate_2012_13'].mean() \n",
    "# mode = df['median_household_income_estimate_2012_13'].mode() not useful\n",
    "median = df['median_household_income_estimate_2012_13'].median()\n",
    "\n",
    "# spread\n",
    "min_avg_income = df['median_household_income_estimate_2012_13'].min()\n",
    "max_avg_income = df['median_household_income_estimate_2012_13'].max()\n",
    "range_avg_income = max_avg_income - min_avg_income\n",
    "variance = df['median_household_income_estimate_2012_13'].var()\n",
    "std_dev = df['median_household_income_estimate_2012_13'].std()\n",
    "\n",
    "print(\"size of data set: \", size)\n",
    "print(\"mean: \", mean)\n",
    "print(\"median: \", median)\n",
    "print(\"min avg income: \", min_avg_income)\n",
    "print(\"max avg income: \", max_avg_income)\n",
    "print(\"range avg income: \", range_avg_income)\n",
    "print(\"variance: \", variance)\n",
    "print(\"standard deviation: \", std_dev)"
   ]
  },
  {
   "cell_type": "code",
   "execution_count": 6,
   "id": "d0196383-a044-468f-8755-1e3348a2262b",
   "metadata": {},
   "outputs": [
    {
     "data": {
      "text/plain": [
       "<AxesSubplot:>"
      ]
     },
     "execution_count": 6,
     "metadata": {},
     "output_type": "execute_result"
    },
    {
     "data": {
      "image/png": "[encoded data removed]",
      "text/plain": [
       "<Figure size 432x288 with 1 Axes>"
      ]
     },
     "metadata": {
      "needs_background": "light"
     },
     "output_type": "display_data"
    }
   ],
   "source": [
    "# boxplot\n",
    "df.boxplot(column='median_household_income_estimate_2012_13')"
   ]
  },
  {
   "cell_type": "code",
   "execution_count": 7,
   "id": "086689b3-cd61-49bb-ae38-2c8283746163",
   "metadata": {},
   "outputs": [
    {
     "data": {
      "text/plain": [
       "Text(43147.12980769231, 109.62, 'Mean: 39224.66')"
      ]
     },
     "execution_count": 7,
     "metadata": {},
     "output_type": "execute_result"
    },
    {
     "data": {
      "image/png": "[encoded data removed]",
      "text/plain": [
       "<Figure size 432x288 with 1 Axes>"
      ]
     },
     "metadata": {
      "needs_background": "light"
     },
     "output_type": "display_data"
    }
   ],
   "source": [
    "# histogram\n",
    "df['median_household_income_estimate_2012_13'].plot.hist(grid=True, bins=20, rwidth=0.9,\n",
    "                   color='#607c8e')\n",
    "plt.title('Average incomes in london wards')\n",
    "plt.xlabel('Income')\n",
    "plt.ylabel('Counts')\n",
    "plt.grid(axis='y', alpha=0.75)\n",
    "\n",
    "plt.axvline(mean, color='k', linestyle='dashed', linewidth=1)\n",
    "min_ylim, max_ylim = plt.ylim()\n",
    "plt.text(mean*1.1, max_ylim*0.9, 'Mean: {:.2f}'.format(mean))"
   ]
  },
  {
   "cell_type": "code",
   "execution_count": 8,
   "id": "c28115ef-03a6-4855-aaa2-3c3efdea7118",
   "metadata": {},
   "outputs": [
    {
     "data": {
      "text/plain": [
       "<AxesSubplot:>"
      ]
     },
     "execution_count": 8,
     "metadata": {},
     "output_type": "execute_result"
    },
    {
     "data": {
      "image/png": "[encoded data removed]",
      "text/plain": [
       "<Figure size 432x288 with 1 Axes>"
      ]
     },
     "metadata": {
      "needs_background": "light"
     },
     "output_type": "display_data"
    }
   ],
   "source": [
    "df.boxplot(column='median_household_income_estimate_2012_13_log')"
   ]
  },
  {
   "cell_type": "code",
   "execution_count": 13,
   "id": "1807876c-1fa7-4dd8-abb2-1eea922670fe",
   "metadata": {},
   "outputs": [
    {
     "data": {
      "text/plain": [
       "Text(11.61669471022564, 77.49, 'Mean: 10.56')"
      ]
     },
     "execution_count": 13,
     "metadata": {},
     "output_type": "execute_result"
    },
    {
     "data": {
      "image/png": "[encoded data removed]",
      "text/plain": [
       "<Figure size 432x288 with 1 Axes>"
      ]
     },
     "metadata": {
      "needs_background": "light"
     },
     "output_type": "display_data"
    }
   ],
   "source": [
    "# log transforming income\n",
    "\n",
    "# histogram\n",
    "df['median_household_income_estimate_2012_13_log'].plot.hist(grid=True, bins=20, rwidth=0.9,\n",
    "                   color='#607c8e')\n",
    "plt.title('Average incomes in london wards')\n",
    "plt.xlabel('Log transformed income')\n",
    "plt.ylabel('Counts')\n",
    "plt.grid(axis='y', alpha=0.75)\n",
    "\n",
    "mean_log = df['median_household_income_estimate_2012_13_log'].mean() \n",
    "\n",
    "plt.axvline(mean_log, color='k', linestyle='dashed', linewidth=1)\n",
    "min_ylim, max_ylim = plt.ylim()\n",
    "plt.text(mean_log*1.1, max_ylim*0.9, 'Mean: {:.2f}'.format(mean_log))"
   ]
  },
  {
   "cell_type": "code",
   "execution_count": 24,
   "id": "d94b4a39-9da7-4d53-ac4c-3cef4d3ae3ba",
   "metadata": {},
   "outputs": [
    {
     "data": {
      "text/plain": [
       "<AxesSubplot:>"
      ]
     },
     "execution_count": 24,
     "metadata": {},
     "output_type": "execute_result"
    },
    {
     "data": {
      "image/png": "[encoded data removed]",
      "text/plain": [
       "<Figure size 432x288 with 1 Axes>"
      ]
     },
     "metadata": {
      "needs_background": "light"
     },
     "output_type": "display_data"
    }
   ],
   "source": [
    "# FOR INCOME RAISED TO POWER -1\n",
    "df.boxplot(column='median_household_income_estimate_2012_13_pow')"
   ]
  },
  {
   "cell_type": "code",
   "execution_count": 25,
   "id": "319b97d3-ca94-4980-86da-1254fdebab57",
   "metadata": {},
   "outputs": [
    {
     "data": {
      "text/plain": [
       "Text(2.8954108753793573e-05, 67.095, 'Mean: 0.00')"
      ]
     },
     "execution_count": 25,
     "metadata": {},
     "output_type": "execute_result"
    },
    {
     "data": {
      "image/png": "[encoded data removed]",
      "text/plain": [
       "<Figure size 432x288 with 1 Axes>"
      ]
     },
     "metadata": {
      "needs_background": "light"
     },
     "output_type": "display_data"
    }
   ],
   "source": [
    "df['median_household_income_estimate_2012_13_pow'].plot.hist(grid=True, bins=20, rwidth=0.9,\n",
    "                   color='#607c8e')\n",
    "plt.title('Average incomes in london wards')\n",
    "plt.xlabel('Income transformed to power of -1')\n",
    "plt.ylabel('Counts')\n",
    "plt.grid(axis='y', alpha=0.75)\n",
    "\n",
    "mean_pow = df['median_household_income_estimate_2012_13_pow'].mean() \n",
    "\n",
    "plt.axvline(mean_pow, color='k', linestyle='dashed', linewidth=1)\n",
    "min_ylim, max_ylim = plt.ylim()\n",
    "plt.text(mean_pow*1.1, max_ylim*0.9, 'Mean: {:.2f}'.format(mean_pow))"
   ]
  }
 ],
 "metadata": {
  "kernelspec": {
   "display_name": "Python 3 (ipykernel)",
   "language": "python",
   "name": "python3"
  },
  "language_info": {
   "codemirror_mode": {
    "name": "ipython",
    "version": 3
   },
   "file_extension": ".py",
   "mimetype": "text/x-python",
   "name": "python",
   "nbconvert_exporter": "python",
   "pygments_lexer": "ipython3",
   "version": "3.10.5"
  }
 },
 "nbformat": 4,
 "nbformat_minor": 5
}
