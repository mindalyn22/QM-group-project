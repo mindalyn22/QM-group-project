{
 "cells": [
  {
   "cell_type": "code",
   "execution_count": 1,
   "id": "41cfcc27-d797-4f27-96fc-111e78d3363b",
   "metadata": {},
   "outputs": [],
   "source": [
    "import numpy as np\n",
    "import pandas as pd\n",
    "\n",
    "import matplotlib.pyplot as plt\n",
    "import statsmodels.formula.api as smf\n",
    "import statsmodels.api as sm\n",
    "import statsmodels"
   ]
  },
  {
   "cell_type": "code",
   "execution_count": 2,
   "id": "28dee95c-5e65-4adf-8ec2-a66536be36c4",
   "metadata": {},
   "outputs": [
    {
     "data": {
      "text/html": [
       "<div>\n",
       "<style scoped>\n",
       "    .dataframe tbody tr th:only-of-type {\n",
       "        vertical-align: middle;\n",
       "    }\n",
       "\n",
       "    .dataframe tbody tr th {\n",
       "        vertical-align: top;\n",
       "    }\n",
       "\n",
       "    .dataframe thead th {\n",
       "        text-align: right;\n",
       "    }\n",
       "</style>\n",
       "<table border=\"1\" class=\"dataframe\">\n",
       "  <thead>\n",
       "    <tr style=\"text-align: right;\">\n",
       "      <th></th>\n",
       "      <th>Unnamed: 0</th>\n",
       "      <th>ward</th>\n",
       "      <th>borough</th>\n",
       "      <th>%_english_is_first_language_of_no_one_in_household_2011</th>\n",
       "      <th>median_house_price_2014</th>\n",
       "      <th>median_household_income_estimate_2012_13</th>\n",
       "      <th>male_life_expectancy_2009_13</th>\n",
       "      <th>female_life_expectancy_2009_13</th>\n",
       "      <th>%_area_that_is_open_space_2014</th>\n",
       "      <th>%_travel_by_bicycle_to_work_2011</th>\n",
       "      <th>turnout_at_mayoral_election_2012</th>\n",
       "      <th>crime_rate_2014_15</th>\n",
       "      <th>%_bame_2011</th>\n",
       "      <th>%_all_older_people_aged_65_2015</th>\n",
       "      <th>%_homes_with_good_access_to_nature</th>\n",
       "      <th>%_homes_with_deficiency_in_access_to_nature</th>\n",
       "      <th>female_life_expectancy_normalised</th>\n",
       "      <th>male_life_expectancy_normalised</th>\n",
       "    </tr>\n",
       "  </thead>\n",
       "  <tbody>\n",
       "    <tr>\n",
       "      <th>0</th>\n",
       "      <td>1</td>\n",
       "      <td>E05000026</td>\n",
       "      <td>Barking and Dagenham</td>\n",
       "      <td>25.7</td>\n",
       "      <td>173000.0</td>\n",
       "      <td>33920.0</td>\n",
       "      <td>80.2</td>\n",
       "      <td>83.9</td>\n",
       "      <td>21.9</td>\n",
       "      <td>0.8</td>\n",
       "      <td>25.7</td>\n",
       "      <td>138.1</td>\n",
       "      <td>71.9</td>\n",
       "      <td>5.0</td>\n",
       "      <td>98.0</td>\n",
       "      <td>2.0</td>\n",
       "      <td>0.996498</td>\n",
       "      <td>1.005313</td>\n",
       "    </tr>\n",
       "    <tr>\n",
       "      <th>1</th>\n",
       "      <td>2</td>\n",
       "      <td>E05000027</td>\n",
       "      <td>Barking and Dagenham</td>\n",
       "      <td>7.9</td>\n",
       "      <td>215000.0</td>\n",
       "      <td>32470.0</td>\n",
       "      <td>77.2</td>\n",
       "      <td>80.6</td>\n",
       "      <td>20.6</td>\n",
       "      <td>1.0</td>\n",
       "      <td>20.3</td>\n",
       "      <td>73.6</td>\n",
       "      <td>29.9</td>\n",
       "      <td>10.0</td>\n",
       "      <td>28.0</td>\n",
       "      <td>72.0</td>\n",
       "      <td>0.957303</td>\n",
       "      <td>0.967708</td>\n",
       "    </tr>\n",
       "    <tr>\n",
       "      <th>2</th>\n",
       "      <td>3</td>\n",
       "      <td>E05000028</td>\n",
       "      <td>Barking and Dagenham</td>\n",
       "      <td>10.5</td>\n",
       "      <td>210000.0</td>\n",
       "      <td>33000.0</td>\n",
       "      <td>79.0</td>\n",
       "      <td>79.3</td>\n",
       "      <td>1.9</td>\n",
       "      <td>1.6</td>\n",
       "      <td>22.5</td>\n",
       "      <td>79.9</td>\n",
       "      <td>41.2</td>\n",
       "      <td>8.7</td>\n",
       "      <td>83.0</td>\n",
       "      <td>17.0</td>\n",
       "      <td>0.941863</td>\n",
       "      <td>0.990271</td>\n",
       "    </tr>\n",
       "  </tbody>\n",
       "</table>\n",
       "</div>"
      ],
      "text/plain": [
       "   Unnamed: 0       ward               borough  \\\n",
       "0           1  E05000026  Barking and Dagenham   \n",
       "1           2  E05000027  Barking and Dagenham   \n",
       "2           3  E05000028  Barking and Dagenham   \n",
       "\n",
       "   %_english_is_first_language_of_no_one_in_household_2011  \\\n",
       "0                                               25.7         \n",
       "1                                                7.9         \n",
       "2                                               10.5         \n",
       "\n",
       "   median_house_price_2014  median_household_income_estimate_2012_13  \\\n",
       "0                 173000.0                                   33920.0   \n",
       "1                 215000.0                                   32470.0   \n",
       "2                 210000.0                                   33000.0   \n",
       "\n",
       "   male_life_expectancy_2009_13  female_life_expectancy_2009_13  \\\n",
       "0                          80.2                            83.9   \n",
       "1                          77.2                            80.6   \n",
       "2                          79.0                            79.3   \n",
       "\n",
       "   %_area_that_is_open_space_2014  %_travel_by_bicycle_to_work_2011  \\\n",
       "0                            21.9                               0.8   \n",
       "1                            20.6                               1.0   \n",
       "2                             1.9                               1.6   \n",
       "\n",
       "   turnout_at_mayoral_election_2012  crime_rate_2014_15  %_bame_2011  \\\n",
       "0                              25.7               138.1         71.9   \n",
       "1                              20.3                73.6         29.9   \n",
       "2                              22.5                79.9         41.2   \n",
       "\n",
       "   %_all_older_people_aged_65_2015  %_homes_with_good_access_to_nature  \\\n",
       "0                              5.0                                98.0   \n",
       "1                             10.0                                28.0   \n",
       "2                              8.7                                83.0   \n",
       "\n",
       "   %_homes_with_deficiency_in_access_to_nature  \\\n",
       "0                                          2.0   \n",
       "1                                         72.0   \n",
       "2                                         17.0   \n",
       "\n",
       "   female_life_expectancy_normalised  male_life_expectancy_normalised  \n",
       "0                           0.996498                         1.005313  \n",
       "1                           0.957303                         0.967708  \n",
       "2                           0.941863                         0.990271  "
      ]
     },
     "execution_count": 2,
     "metadata": {},
     "output_type": "execute_result"
    }
   ],
   "source": [
    "#read a file\n",
    "df = pd.read_csv(\"full_data.csv\", encoding=\"latin\")\n",
    "df.head(3)"
   ]
  },
  {
   "cell_type": "code",
   "execution_count": 4,
   "id": "85ac2719-3773-4dae-9e83-d90648583783",
   "metadata": {},
   "outputs": [
    {
     "name": "stdout",
     "output_type": "stream",
     "text": [
      "<class 'pandas.core.frame.DataFrame'>\n",
      "RangeIndex: 624 entries, 0 to 623\n",
      "Data columns (total 18 columns):\n",
      " #   Column                                                   Non-Null Count  Dtype  \n",
      "---  ------                                                   --------------  -----  \n",
      " 0   Unnamed: 0                                               624 non-null    int64  \n",
      " 1   ward                                                     624 non-null    object \n",
      " 2   borough                                                  624 non-null    object \n",
      " 3   %_english_is_first_language_of_no_one_in_household_2011  624 non-null    float64\n",
      " 4   median_house_price_2014                                  624 non-null    float64\n",
      " 5   median_household_income_estimate_2012_13                 624 non-null    float64\n",
      " 6   male_life_expectancy_2009_13                             624 non-null    float64\n",
      " 7   female_life_expectancy_2009_13                           624 non-null    float64\n",
      " 8   %_area_that_is_open_space_2014                           624 non-null    float64\n",
      " 9   %_travel_by_bicycle_to_work_2011                         624 non-null    float64\n",
      " 10  turnout_at_mayoral_election_2012                         624 non-null    float64\n",
      " 11  crime_rate_2014_15                                       624 non-null    float64\n",
      " 12  %_bame_2011                                              624 non-null    float64\n",
      " 13  %_all_older_people_aged_65_2015                          624 non-null    float64\n",
      " 14  %_homes_with_good_access_to_nature                       624 non-null    float64\n",
      " 15  %_homes_with_deficiency_in_access_to_nature              624 non-null    float64\n",
      " 16  female_life_expectancy_normalised                        624 non-null    float64\n",
      " 17  male_life_expectancy_normalised                          624 non-null    float64\n",
      "dtypes: float64(15), int64(1), object(2)\n",
      "memory usage: 87.9+ KB\n"
     ]
    }
   ],
   "source": [
    "df.info()"
   ]
  },
  {
   "cell_type": "code",
   "execution_count": null,
   "id": "5ad39032-23f0-4a6f-90ab-06e16ca362b5",
   "metadata": {},
   "outputs": [],
   "source": [
    "#summarise_turnout column(turnout_at_mayoral_election_2012)"
   ]
  },
  {
   "cell_type": "code",
   "execution_count": 3,
   "id": "1055f0d7-afc6-4af0-bfbb-e8b9e51f7552",
   "metadata": {},
   "outputs": [
    {
     "data": {
      "text/plain": [
       "0    25.7\n",
       "1    20.3\n",
       "2    22.5\n",
       "3    25.3\n",
       "4    24.1\n",
       "Name: turnout_at_mayoral_election_2012, dtype: float64"
      ]
     },
     "execution_count": 3,
     "metadata": {},
     "output_type": "execute_result"
    }
   ],
   "source": [
    "turnout = df['turnout_at_mayoral_election_2012']\n",
    "turnout.head(5)"
   ]
  },
  {
   "cell_type": "code",
   "execution_count": 5,
   "id": "01d30ea4-adba-4e02-b9f2-3afef0aaf61d",
   "metadata": {},
   "outputs": [],
   "source": [
    "summary = turnout.describe()"
   ]
  },
  {
   "cell_type": "code",
   "execution_count": 6,
   "id": "f86f22d3-43b4-4f46-b85b-8cfb8cf6242a",
   "metadata": {},
   "outputs": [],
   "source": [
    "variance = turnout.var()"
   ]
  },
  {
   "cell_type": "code",
   "execution_count": 7,
   "id": "4cf0f634-eb67-4b83-8afa-d73c995c16fc",
   "metadata": {},
   "outputs": [],
   "source": [
    "mode = turnout.mode()"
   ]
  },
  {
   "cell_type": "code",
   "execution_count": 8,
   "id": "4b72bbdf-f860-49d8-ac93-ac1cafa4d9ad",
   "metadata": {},
   "outputs": [],
   "source": [
    "range_turnout = turnout.max() - turnout.min()"
   ]
  },
  {
   "cell_type": "code",
   "execution_count": 9,
   "id": "ffaaccbb-c167-45ad-b5bd-ae9754ab8e4c",
   "metadata": {},
   "outputs": [
    {
     "name": "stdout",
     "output_type": "stream",
     "text": [
      "count    624.000000\n",
      "mean      34.134295\n",
      "std        5.336655\n",
      "min       19.300000\n",
      "25%       30.875000\n",
      "50%       34.200000\n",
      "75%       37.600000\n",
      "max       51.700000\n",
      "Name: turnout_at_mayoral_election_2012, dtype: float64\n",
      "variance:  28.479881363954373\n",
      "mode:  0    35.8\n",
      "Name: turnout_at_mayoral_election_2012, dtype: float64\n",
      "range:  32.400000000000006\n"
     ]
    }
   ],
   "source": [
    "#summary\n",
    "print(summary)\n",
    "print(\"variance: \", variance)\n",
    "print(\"mode: \", mode)\n",
    "print(\"range: \", range_turnout)"
   ]
  },
  {
   "cell_type": "code",
   "execution_count": 10,
   "id": "4faf2fee-0ff7-480a-bf79-3f85adb21653",
   "metadata": {},
   "outputs": [],
   "source": [
    "mean = turnout.mean()"
   ]
  },
  {
   "cell_type": "code",
   "execution_count": 15,
   "id": "7b2f6d52-c158-478e-a180-ddfa08c1206f",
   "metadata": {},
   "outputs": [
    {
     "data": {
      "image/png": "[encoded data removed]",
      "text/plain": [
       "<Figure size 640x480 with 1 Axes>"
      ]
     },
     "metadata": {},
     "output_type": "display_data"
    }
   ],
   "source": [
    "# boxplot\n",
    "df.boxplot(column='turnout_at_mayoral_election_2012')\n",
    "plt.savefig('boxplot_turnout.png', dpi=300, transparent=True)"
   ]
  },
  {
   "cell_type": "code",
   "execution_count": 13,
   "id": "9deda318-56d8-4963-80bf-8193a64dc718",
   "metadata": {},
   "outputs": [
    {
     "data": {
      "image/png": "[encoded data removed]",
      "text/plain": [
       "<Figure size 640x480 with 1 Axes>"
      ]
     },
     "metadata": {},
     "output_type": "display_data"
    }
   ],
   "source": [
    "# histogram\n",
    "turnout.plot.hist(grid=True, bins=20, rwidth=0.9,\n",
    "                   color='#607c8e')\n",
    "plt.title('Turnout at mayoral election in London Wards')\n",
    "plt.xlabel('Turnout')\n",
    "plt.ylabel('Counts')\n",
    "plt.grid(axis='y', alpha=0.75)\n",
    "\n",
    "plt.axvline(mean, color='k', linestyle='dashed', linewidth=1)\n",
    "min_ylim, max_ylim = plt.ylim()\n",
    "plt.text(mean*1.1, max_ylim*0.9, 'Mean: {:.2f}'.format(mean))\n",
    "plt.savefig('histogram_turnout.png', dpi=300, transparent=True)"
   ]
  },
  {
   "cell_type": "code",
   "execution_count": 16,
   "id": "26ca1260-667f-4100-81da-79cef9ff7af4",
   "metadata": {},
   "outputs": [
    {
     "data": {
      "image/png": "[encoded data removed]",
      "text/plain": [
       "<Figure size 640x480 with 1 Axes>"
      ]
     },
     "metadata": {},
     "output_type": "display_data"
    }
   ],
   "source": [
    "plt.hist(turnout, color='green', alpha=0.4, bins=25, edgecolor='black')\n",
    "plt.title('Turnout at mayoral election in 2012')\n",
    "plt.xlabel('Turnout')\n",
    "plt.ylabel('Counts')\n",
    "plt.show()"
   ]
  }
 ],
 "metadata": {
  "kernelspec": {
   "display_name": "Python 3 (ipykernel)",
   "language": "python",
   "name": "python3"
  },
  "language_info": {
   "codemirror_mode": {
    "name": "ipython",
    "version": 3
   },
   "file_extension": ".py",
   "mimetype": "text/x-python",
   "name": "python",
   "nbconvert_exporter": "python",
   "pygments_lexer": "ipython3",
   "version": "3.10.5"
  }
 },
 "nbformat": 4,
 "nbformat_minor": 5
}
